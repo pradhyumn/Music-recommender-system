{
 "cells": [
  {
   "cell_type": "code",
   "execution_count": 2,
   "metadata": {
    "collapsed": true,
    "jupyter": {
     "outputs_hidden": true
    }
   },
   "outputs": [
    {
     "name": "stdout",
     "output_type": "stream",
     "text": [
      "Defaulting to user installation because normal site-packages is not writeable\n",
      "Collecting lightfm\n",
      "  Downloading lightfm-1.17.tar.gz (316 kB)\n",
      "\u001b[2K     \u001b[90m━━━━━━━━━━━━━━━━━━━━━━━━━━━━━━━━━━━━━\u001b[0m \u001b[32m316.4/316.4 kB\u001b[0m \u001b[31m571.3 kB/s\u001b[0m eta \u001b[36m0:00:00\u001b[0ma \u001b[36m0:00:01\u001b[0m\n",
      "\u001b[?25h  Preparing metadata (setup.py) ... \u001b[?25ldone\n",
      "\u001b[?25hRequirement already satisfied: numpy in /ext3/pyspark/lib/python3.10/site-packages (from lightfm) (1.23.4)\n",
      "Requirement already satisfied: scipy>=0.17.0 in /ext3/pyspark/lib/python3.10/site-packages (from lightfm) (1.9.3)\n",
      "Requirement already satisfied: requests in /ext3/pyspark/lib/python3.10/site-packages (from lightfm) (2.28.1)\n",
      "Requirement already satisfied: scikit-learn in /ext3/pyspark/lib/python3.10/site-packages (from lightfm) (1.1.2)\n",
      "Requirement already satisfied: charset-normalizer<3,>=2 in /ext3/pyspark/lib/python3.10/site-packages (from requests->lightfm) (2.1.1)\n",
      "Requirement already satisfied: idna<4,>=2.5 in /ext3/pyspark/lib/python3.10/site-packages (from requests->lightfm) (3.4)\n",
      "Requirement already satisfied: urllib3<1.27,>=1.21.1 in /ext3/pyspark/lib/python3.10/site-packages (from requests->lightfm) (1.26.12)\n",
      "Requirement already satisfied: certifi>=2017.4.17 in /ext3/pyspark/lib/python3.10/site-packages (from requests->lightfm) (2022.9.24)\n",
      "Requirement already satisfied: joblib>=1.0.0 in /ext3/pyspark/lib/python3.10/site-packages (from scikit-learn->lightfm) (1.2.0)\n",
      "Requirement already satisfied: threadpoolctl>=2.0.0 in /ext3/pyspark/lib/python3.10/site-packages (from scikit-learn->lightfm) (3.1.0)\n",
      "Building wheels for collected packages: lightfm\n",
      "  Building wheel for lightfm (setup.py) ... \u001b[?25ldone\n",
      "\u001b[?25h  Created wheel for lightfm: filename=lightfm-1.17-cp310-cp310-linux_x86_64.whl size=464742 sha256=c67e0a63023758af6f2813f1b212b1a315396ac6c9fd66c4146ea5ae9da354b8\n",
      "  Stored in directory: /home/ap7641/.cache/pip/wheels/4f/9b/7e/0b256f2168511d8fa4dae4fae0200fdbd729eb424a912ad636\n",
      "Successfully built lightfm\n",
      "Installing collected packages: lightfm\n",
      "Successfully installed lightfm-1.17\n",
      "Defaulting to user installation because normal site-packages is not writeable\n",
      "Requirement already satisfied: pandas in /ext3/pyspark/lib/python3.10/site-packages (1.5.1)\n",
      "Requirement already satisfied: pyarrow in /ext3/pyspark/lib/python3.10/site-packages (8.0.0)\n",
      "Requirement already satisfied: python-dateutil>=2.8.1 in /ext3/pyspark/lib/python3.10/site-packages (from pandas) (2.8.2)\n",
      "Requirement already satisfied: pytz>=2020.1 in /ext3/pyspark/lib/python3.10/site-packages (from pandas) (2022.5)\n",
      "Requirement already satisfied: numpy>=1.21.0 in /ext3/pyspark/lib/python3.10/site-packages (from pandas) (1.23.4)\n",
      "Requirement already satisfied: six>=1.5 in /ext3/pyspark/lib/python3.10/site-packages (from python-dateutil>=2.8.1->pandas) (1.16.0)\n"
     ]
    }
   ],
   "source": [
    "!pip install lightfm\n",
    "!pip install pandas pyarrow"
   ]
  },
  {
   "cell_type": "code",
   "execution_count": 1,
   "metadata": {},
   "outputs": [],
   "source": [
    "from lightfm import LightFM\n",
    "from lightfm.datasets import fetch_movielens\n",
    "from lightfm.evaluation import precision_at_k\n",
    "from scipy.sparse import coo_matrix\n",
    "import pandas as pd\n",
    "from time import perf_counter"
   ]
  },
  {
   "cell_type": "code",
   "execution_count": 2,
   "metadata": {},
   "outputs": [],
   "source": [
    "df_train=pd.read_parquet('train_als.parquet')\n",
    "df_test=pd.read_parquet('test_als.parquet')"
   ]
  },
  {
   "cell_type": "code",
   "execution_count": 3,
   "metadata": {},
   "outputs": [
    {
     "data": {
      "text/html": [
       "<div>\n",
       "<style scoped>\n",
       "    .dataframe tbody tr th:only-of-type {\n",
       "        vertical-align: middle;\n",
       "    }\n",
       "\n",
       "    .dataframe tbody tr th {\n",
       "        vertical-align: top;\n",
       "    }\n",
       "\n",
       "    .dataframe thead th {\n",
       "        text-align: right;\n",
       "    }\n",
       "</style>\n",
       "<table border=\"1\" class=\"dataframe\">\n",
       "  <thead>\n",
       "    <tr style=\"text-align: right;\">\n",
       "      <th></th>\n",
       "      <th>user_id</th>\n",
       "      <th>avg_rating</th>\n",
       "      <th>recording_id_index</th>\n",
       "    </tr>\n",
       "  </thead>\n",
       "  <tbody>\n",
       "    <tr>\n",
       "      <th>0</th>\n",
       "      <td>243</td>\n",
       "      <td>0.000019</td>\n",
       "      <td>91438.0</td>\n",
       "    </tr>\n",
       "    <tr>\n",
       "      <th>1</th>\n",
       "      <td>243</td>\n",
       "      <td>0.000037</td>\n",
       "      <td>85165.0</td>\n",
       "    </tr>\n",
       "    <tr>\n",
       "      <th>2</th>\n",
       "      <td>243</td>\n",
       "      <td>0.000019</td>\n",
       "      <td>47472.0</td>\n",
       "    </tr>\n",
       "    <tr>\n",
       "      <th>3</th>\n",
       "      <td>243</td>\n",
       "      <td>0.000019</td>\n",
       "      <td>134027.0</td>\n",
       "    </tr>\n",
       "    <tr>\n",
       "      <th>4</th>\n",
       "      <td>243</td>\n",
       "      <td>0.000019</td>\n",
       "      <td>219370.0</td>\n",
       "    </tr>\n",
       "    <tr>\n",
       "      <th>...</th>\n",
       "      <td>...</td>\n",
       "      <td>...</td>\n",
       "      <td>...</td>\n",
       "    </tr>\n",
       "    <tr>\n",
       "      <th>17347430</th>\n",
       "      <td>21819</td>\n",
       "      <td>0.000020</td>\n",
       "      <td>8305.0</td>\n",
       "    </tr>\n",
       "    <tr>\n",
       "      <th>17347431</th>\n",
       "      <td>21819</td>\n",
       "      <td>0.000059</td>\n",
       "      <td>8218.0</td>\n",
       "    </tr>\n",
       "    <tr>\n",
       "      <th>17347432</th>\n",
       "      <td>21819</td>\n",
       "      <td>0.000138</td>\n",
       "      <td>15830.0</td>\n",
       "    </tr>\n",
       "    <tr>\n",
       "      <th>17347433</th>\n",
       "      <td>21819</td>\n",
       "      <td>0.000020</td>\n",
       "      <td>302175.0</td>\n",
       "    </tr>\n",
       "    <tr>\n",
       "      <th>17347434</th>\n",
       "      <td>21819</td>\n",
       "      <td>0.000020</td>\n",
       "      <td>12320.0</td>\n",
       "    </tr>\n",
       "  </tbody>\n",
       "</table>\n",
       "<p>17347435 rows × 3 columns</p>\n",
       "</div>"
      ],
      "text/plain": [
       "          user_id  avg_rating  recording_id_index\n",
       "0             243    0.000019             91438.0\n",
       "1             243    0.000037             85165.0\n",
       "2             243    0.000019             47472.0\n",
       "3             243    0.000019            134027.0\n",
       "4             243    0.000019            219370.0\n",
       "...           ...         ...                 ...\n",
       "17347430    21819    0.000020              8305.0\n",
       "17347431    21819    0.000059              8218.0\n",
       "17347432    21819    0.000138             15830.0\n",
       "17347433    21819    0.000020            302175.0\n",
       "17347434    21819    0.000020             12320.0\n",
       "\n",
       "[17347435 rows x 3 columns]"
      ]
     },
     "execution_count": 3,
     "metadata": {},
     "output_type": "execute_result"
    }
   ],
   "source": [
    "df_train"
   ]
  },
  {
   "cell_type": "code",
   "execution_count": 4,
   "metadata": {},
   "outputs": [],
   "source": [
    "df_test = df_test.sort_values([\"user_id\", \"avg_rating\"], ascending=[True, False])"
   ]
  },
  {
   "cell_type": "code",
   "execution_count": 5,
   "metadata": {},
   "outputs": [
    {
     "data": {
      "text/html": [
       "<div>\n",
       "<style scoped>\n",
       "    .dataframe tbody tr th:only-of-type {\n",
       "        vertical-align: middle;\n",
       "    }\n",
       "\n",
       "    .dataframe tbody tr th {\n",
       "        vertical-align: top;\n",
       "    }\n",
       "\n",
       "    .dataframe thead th {\n",
       "        text-align: right;\n",
       "    }\n",
       "</style>\n",
       "<table border=\"1\" class=\"dataframe\">\n",
       "  <thead>\n",
       "    <tr style=\"text-align: right;\">\n",
       "      <th></th>\n",
       "      <th>user_id</th>\n",
       "      <th>avg_rating</th>\n",
       "      <th>recording_id_index</th>\n",
       "    </tr>\n",
       "  </thead>\n",
       "  <tbody>\n",
       "    <tr>\n",
       "      <th>788939</th>\n",
       "      <td>1</td>\n",
       "      <td>0.020073</td>\n",
       "      <td>311045.0</td>\n",
       "    </tr>\n",
       "    <tr>\n",
       "      <th>789040</th>\n",
       "      <td>1</td>\n",
       "      <td>0.020073</td>\n",
       "      <td>257557.0</td>\n",
       "    </tr>\n",
       "    <tr>\n",
       "      <th>788884</th>\n",
       "      <td>1</td>\n",
       "      <td>0.018248</td>\n",
       "      <td>218594.0</td>\n",
       "    </tr>\n",
       "    <tr>\n",
       "      <th>788894</th>\n",
       "      <td>1</td>\n",
       "      <td>0.018248</td>\n",
       "      <td>234874.0</td>\n",
       "    </tr>\n",
       "    <tr>\n",
       "      <th>789031</th>\n",
       "      <td>1</td>\n",
       "      <td>0.018248</td>\n",
       "      <td>158486.0</td>\n",
       "    </tr>\n",
       "    <tr>\n",
       "      <th>...</th>\n",
       "      <td>...</td>\n",
       "      <td>...</td>\n",
       "      <td>...</td>\n",
       "    </tr>\n",
       "    <tr>\n",
       "      <th>3137327</th>\n",
       "      <td>22705</td>\n",
       "      <td>0.007246</td>\n",
       "      <td>12951.0</td>\n",
       "    </tr>\n",
       "    <tr>\n",
       "      <th>3137328</th>\n",
       "      <td>22705</td>\n",
       "      <td>0.007246</td>\n",
       "      <td>79181.0</td>\n",
       "    </tr>\n",
       "    <tr>\n",
       "      <th>3137329</th>\n",
       "      <td>22705</td>\n",
       "      <td>0.007246</td>\n",
       "      <td>46607.0</td>\n",
       "    </tr>\n",
       "    <tr>\n",
       "      <th>3137330</th>\n",
       "      <td>22705</td>\n",
       "      <td>0.007246</td>\n",
       "      <td>32.0</td>\n",
       "    </tr>\n",
       "    <tr>\n",
       "      <th>3137331</th>\n",
       "      <td>22705</td>\n",
       "      <td>0.007246</td>\n",
       "      <td>150778.0</td>\n",
       "    </tr>\n",
       "  </tbody>\n",
       "</table>\n",
       "<p>3672133 rows × 3 columns</p>\n",
       "</div>"
      ],
      "text/plain": [
       "         user_id  avg_rating  recording_id_index\n",
       "788939         1    0.020073            311045.0\n",
       "789040         1    0.020073            257557.0\n",
       "788884         1    0.018248            218594.0\n",
       "788894         1    0.018248            234874.0\n",
       "789031         1    0.018248            158486.0\n",
       "...          ...         ...                 ...\n",
       "3137327    22705    0.007246             12951.0\n",
       "3137328    22705    0.007246             79181.0\n",
       "3137329    22705    0.007246             46607.0\n",
       "3137330    22705    0.007246                32.0\n",
       "3137331    22705    0.007246            150778.0\n",
       "\n",
       "[3672133 rows x 3 columns]"
      ]
     },
     "execution_count": 5,
     "metadata": {},
     "output_type": "execute_result"
    }
   ],
   "source": [
    "df_test"
   ]
  },
  {
   "cell_type": "code",
   "execution_count": 6,
   "metadata": {},
   "outputs": [],
   "source": [
    "df_train['user_id'] = df_train['user_id'].astype(int)\n",
    "df_train['recording_id_index'] = df_train['recording_id_index'].astype(int)\n",
    "\n",
    "df_test['user_id'] = df_test['user_id'].astype(int)\n",
    "df_test['recording_id_index'] = df_test['recording_id_index'].astype(int)"
   ]
  },
  {
   "cell_type": "code",
   "execution_count": 7,
   "metadata": {},
   "outputs": [],
   "source": [
    "interactions_train = coo_matrix((df_train['avg_rating'], \n",
    "                                 (df_train['user_id'], df_train['recording_id_index'])))\n",
    "\n",
    "interactions_test = coo_matrix((df_test['avg_rating'], \n",
    "                                (df_test['user_id'], df_test['recording_id_index'])))"
   ]
  },
  {
   "cell_type": "code",
   "execution_count": 8,
   "metadata": {},
   "outputs": [
    {
     "data": {
      "text/plain": [
       "(943, 1682)"
      ]
     },
     "execution_count": 8,
     "metadata": {},
     "output_type": "execute_result"
    }
   ],
   "source": [
    "data = fetch_movielens(min_rating=5.0)\n",
    "data['train'].shape"
   ]
  },
  {
   "cell_type": "code",
   "execution_count": 9,
   "metadata": {},
   "outputs": [
    {
     "data": {
      "text/plain": [
       "(22706, 373151)"
      ]
     },
     "execution_count": 9,
     "metadata": {},
     "output_type": "execute_result"
    }
   ],
   "source": [
    "interactions_train.shape"
   ]
  },
  {
   "cell_type": "code",
   "execution_count": 10,
   "metadata": {},
   "outputs": [
    {
     "data": {
      "text/plain": [
       "(943, 1682)"
      ]
     },
     "execution_count": 10,
     "metadata": {},
     "output_type": "execute_result"
    }
   ],
   "source": [
    "data['train'].shape"
   ]
  },
  {
   "cell_type": "code",
   "execution_count": 24,
   "metadata": {},
   "outputs": [],
   "source": [
    "# Instantiate and train the model\n",
    "model = LightFM(no_components=300 ,loss='warp')\n",
    "start_time = perf_counter()\n",
    "model.fit(interactions_train, epochs=10, num_threads=8)\n",
    "time_take = perf_counter() - start_time"
   ]
  },
  {
   "cell_type": "code",
   "execution_count": 23,
   "metadata": {},
   "outputs": [
    {
     "data": {
      "text/plain": [
       "157.76215547975153"
      ]
     },
     "execution_count": 23,
     "metadata": {},
     "output_type": "execute_result"
    }
   ],
   "source": [
    "time_take"
   ]
  },
  {
   "cell_type": "code",
   "execution_count": 25,
   "metadata": {},
   "outputs": [],
   "source": [
    "# Evaluate the trained model\n",
    "test_precision = precision_at_k(model, interactions_test, k=100).mean()"
   ]
  },
  {
   "cell_type": "code",
   "execution_count": 26,
   "metadata": {},
   "outputs": [
    {
     "name": "stdout",
     "output_type": "stream",
     "text": [
      "0.17397659\n"
     ]
    }
   ],
   "source": [
    "print(test_precision)"
   ]
  },
  {
   "cell_type": "code",
   "execution_count": 17,
   "metadata": {},
   "outputs": [],
   "source": [
    "# Check if there are any users or items in the test set not in the training set\n",
    "test_user_ids = set(df_test['user_id'].unique())\n",
    "train_user_ids = set(df_train['user_id'].unique())\n",
    "test_item_ids = set(df_test['recording_id_index'].unique())\n",
    "train_item_ids = set(df_train['recording_id_index'].unique())\n",
    "\n",
    "if len(test_user_ids - train_user_ids) > 0:\n",
    "    print(\"There are users in the test set not in the training set\")\n",
    "if len(test_item_ids - train_item_ids) > 0:\n",
    "    print(\"There are items in the test set not in the training set\")\n"
   ]
  },
  {
   "cell_type": "code",
   "execution_count": 15,
   "metadata": {},
   "outputs": [],
   "source": [
    "# Find the unseen user and item ids\n",
    "unseen_user_ids = test_user_ids - train_user_ids\n",
    "unseen_item_ids = test_item_ids - train_item_ids\n",
    "\n",
    "# Remove rows in the test set with unseen users or items\n",
    "df_test = df_test[~df_test['user_id'].isin(unseen_user_ids)]\n",
    "df_test = df_test[~df_test['recording_id_index'].isin(unseen_item_ids)]\n",
    "\n",
    "# Recreate the interactions_test matrix\n",
    "interactions_test = coo_matrix((df_test['avg_rating'], \n",
    "                                (df_test['user_id'], df_test['recording_id_index'])))\n"
   ]
  },
  {
   "cell_type": "code",
   "execution_count": 19,
   "metadata": {},
   "outputs": [],
   "source": [
    "# Find the max user_id and recording_id_index from the training set\n",
    "max_user_id_train = df_train['user_id'].max()\n",
    "max_recording_id_train = df_train['recording_id_index'].max()\n",
    "\n",
    "# Recreate the interactions_test matrix\n",
    "interactions_test = coo_matrix((df_test['avg_rating'], \n",
    "                                (df_test['user_id'], df_test['recording_id_index'])),\n",
    "                               shape=(max_user_id_train + 1, max_recording_id_train + 1))\n"
   ]
  },
  {
   "cell_type": "code",
   "execution_count": null,
   "metadata": {},
   "outputs": [],
   "source": []
  }
 ],
 "metadata": {
  "kernelspec": {
   "display_name": "my_env",
   "language": "python",
   "name": "my_env"
  },
  "language_info": {
   "codemirror_mode": {
    "name": "ipython",
    "version": 3
   },
   "file_extension": ".py",
   "mimetype": "text/x-python",
   "name": "python",
   "nbconvert_exporter": "python",
   "pygments_lexer": "ipython3",
   "version": "3.8.16"
  }
 },
 "nbformat": 4,
 "nbformat_minor": 5
}
